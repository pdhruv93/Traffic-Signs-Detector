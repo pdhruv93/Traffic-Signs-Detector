{
  "nbformat": 4,
  "nbformat_minor": 0,
  "metadata": {
    "colab": {
      "name": "DetectTrafficSigns.ipynb",
      "version": "0.3.2",
      "provenance": []
    },
    "kernelspec": {
      "name": "python3",
      "display_name": "Python 3"
    },
    "accelerator": "GPU"
  },
  "cells": [
    {
      "metadata": {
        "id": "nuqaUlBDJBTv",
        "colab_type": "code",
        "outputId": "18af81d1-ab37-4adc-eef0-b3d016da931a",
        "colab": {
          "base_uri": "https://localhost:8080/",
          "height": 51
        }
      },
      "cell_type": "code",
      "source": [
        "!git clone https://bitbucket.org/jadslim/german-traffic-signs\n",
        "%cd german-traffic-signs"
      ],
      "execution_count": 0,
      "outputs": [
        {
          "output_type": "stream",
          "text": [
            "fatal: destination path 'german-traffic-signs' already exists and is not an empty directory.\n",
            "/content/german-traffic-signs\n"
          ],
          "name": "stdout"
        }
      ]
    },
    {
      "metadata": {
        "id": "KuUscVWqM2Qc",
        "colab_type": "code",
        "outputId": "fb73cc6a-f3c0-4216-ec4f-9dec0da43da6",
        "colab": {
          "base_uri": "https://localhost:8080/",
          "height": 34
        }
      },
      "cell_type": "code",
      "source": [
        "import pickle\n",
        "import numpy as np\n",
        "import pandas as pd\n",
        "import matplotlib.pyplot as plt\n",
        "import random\n",
        "from keras.utils.np_utils import to_categorical\n",
        "from keras.models import Sequential\n",
        "from keras.optimizers import Adam\n",
        "from keras.layers import Dense\n",
        "from keras.layers import Flatten, Dropout\n",
        "from keras.layers.convolutional import Conv2D, MaxPooling2D\n",
        "import cv2"
      ],
      "execution_count": 0,
      "outputs": [
        {
          "output_type": "stream",
          "text": [
            "Using TensorFlow backend.\n"
          ],
          "name": "stderr"
        }
      ]
    },
    {
      "metadata": {
        "id": "S5p_FSFqND68",
        "colab_type": "code",
        "colab": {}
      },
      "cell_type": "code",
      "source": [
        "np.random.seed(0)"
      ],
      "execution_count": 0,
      "outputs": []
    },
    {
      "metadata": {
        "id": "QqGAfePyNGJe",
        "colab_type": "code",
        "outputId": "83c1868a-a910-4840-c580-5a2d7eb81d84",
        "colab": {
          "base_uri": "https://localhost:8080/",
          "height": 102
        }
      },
      "cell_type": "code",
      "source": [
        "# load data from pickle file\n",
        "with open('train.p', 'rb') as f:   #rb is for read binary\n",
        "    train_data = pickle.load(f)\n",
        "with open('valid.p', 'rb') as f:\n",
        "    val_data = pickle.load(f)\n",
        "with open('test.p', 'rb') as f:\n",
        "    test_data = pickle.load(f)\n",
        "    \n",
        "print(type(train_data)) #its a dict type data with \"features\"(image data) and \"lables\"\n",
        "\n",
        "# Split out features and labels\n",
        "X_train, y_train = train_data['features'], train_data['labels']\n",
        "X_val, y_val = val_data['features'], val_data['labels']\n",
        "X_test, y_test = test_data['features'], test_data['labels']\n",
        "\n",
        "#check data shape\n",
        "print(X_train.shape) #(34799, 32, 32, 3) --34799 images..each image of 32 X 32 pixels and 3 channels(b,g,r)\n",
        "print(y_train.shape) #(34799,) -- 34799 lables\n",
        "print(X_test.shape)\n",
        "print(X_val.shape)\n",
        "\n",
        "#some tests whether data has been correctly loaded from file\n",
        "assert(X_train.shape[0] == y_train.shape[0]), \"The number of images is not equal to the number of labels.\"\n",
        "assert(X_train.shape[1:] == (32,32,3)), \"The dimensions of the images are not 32 x 32 x 3.\"\n",
        "assert(X_val.shape[0] == y_val.shape[0]), \"The number of images is not equal to the number of labels.\"\n",
        "assert(X_val.shape[1:] == (32,32,3)), \"The dimensions of the images are not 32 x 32 x 3.\"\n",
        "assert(X_test.shape[0] == y_test.shape[0]), \"The number of images is not equal to the number of labels.\"\n",
        "assert(X_test.shape[1:] == (32,32,3)), \"The dimensions of the images are not 32 x 32 x 3.\""
      ],
      "execution_count": 0,
      "outputs": [
        {
          "output_type": "stream",
          "text": [
            "<class 'dict'>\n",
            "(34799, 32, 32, 3)\n",
            "(34799,)\n",
            "(12630, 32, 32, 3)\n",
            "(4410, 32, 32, 3)\n"
          ],
          "name": "stdout"
        }
      ]
    },
    {
      "metadata": {
        "id": "Ilc21XtYNH_l",
        "colab_type": "code",
        "colab": {}
      },
      "cell_type": "code",
      "source": [
        "#reading the csv file\n",
        "data = pd.read_csv('signnames.csv')\n",
        "  \n",
        "num_of_samples=[] #will hold number of images for each lable\n",
        "\n",
        "cols = 5   #how many we want to show in one row\n",
        "num_classes = 43  #total lables we have\n",
        "\n",
        "#these we are just making boxes/space for images\n",
        "fig, axs = plt.subplots(nrows=num_classes, ncols=cols, figsize=(5,50)) #5inch X 50inch box\n",
        "fig.tight_layout()  #so that the boxes do not overlap\n",
        "#print(fig) #this will just shows blank boxes/space\n",
        "\n",
        "#now lets load images there in space\n",
        "for i in range(cols):\n",
        "    #j--index of current row and row--data of current row\n",
        "    #j --will go from 0-43 as we have 43 rows in signnames.csv\n",
        "    for j, row in data.iterrows(): \n",
        "        x_selected = X_train[y_train == j] \n",
        "        #y_train == j returns [False True ... True False]\n",
        "        #and all places where we have True are copied to x_selected\n",
        "        \n",
        "        #print(x_selected.shape) --(180, 32, 32, 3)..180 images for a label, all of 32 X32 pixels and 3 channels\n",
        "        \n",
        "        #random.randint(0,(len(x_selected) - 1)) --show some random image from x_selected\n",
        "        axs[j][i].imshow(x_selected[random.randint(0,(len(x_selected) - 1)), :, :], cmap=plt.get_cmap('gray'))\n",
        "        axs[j][i].axis(\"off\")\n",
        "        if i == 2:\n",
        "          axs[j][i].set_title(str(j) + \" - \" + row[\"SignName\"])   #show title in centre\n",
        "          num_of_samples.append(len(x_selected))"
      ],
      "execution_count": 0,
      "outputs": []
    },
    {
      "metadata": {
        "id": "h5o8gOesNL2f",
        "colab_type": "code",
        "outputId": "60ee7d11-9ce1-4405-b286-06253e7718af",
        "colab": {
          "base_uri": "https://localhost:8080/",
          "height": 331
        }
      },
      "cell_type": "code",
      "source": [
        "# we show a bar graph of number of images in each class\n",
        "\n",
        "print(num_of_samples) #will show number of images for each lable\n",
        "\n",
        "plt.figure(figsize=(12, 4))   #12 X 4 inches area\n",
        "\n",
        "#plt.bar(x,y) -- range(0, num_classes) will give [0,1,2..43] and num_of_samples will give [100,20,200.....132]\n",
        "#so this function will plot corresponding x and y values\n",
        "plt.bar(range(0, num_classes), num_of_samples)\n",
        "\n",
        "plt.title(\"Distribution of the train dataset\")\n",
        "plt.xlabel(\"Class number\")\n",
        "plt.ylabel(\"Number of images\")\n",
        "plt.show()"
      ],
      "execution_count": 0,
      "outputs": [
        {
          "output_type": "stream",
          "text": [
            "[180, 1980, 2010, 1260, 1770, 1650, 360, 1290, 1260, 1320, 1800, 1170, 1890, 1920, 690, 540, 360, 990, 1080, 180, 300, 270, 330, 450, 240, 1350, 540, 210, 480, 240, 390, 690, 210, 599, 360, 1080, 330, 180, 1860, 270, 300, 210, 210]\n"
          ],
          "name": "stdout"
        },
        {
          "output_type": "display_data",
          "data": {
            "image/png": "[encoded data removed]",
            "text/plain": [
              "<Figure size 864x288 with 1 Axes>"
            ]
          },
          "metadata": {
            "tags": []
          }
        }
      ]
    },
    {
      "metadata": {
        "id": "wtx7OImpNOWC",
        "colab_type": "code",
        "outputId": "4b48f7a5-d314-48b4-b51d-3251c2e892d8",
        "colab": {
          "base_uri": "https://localhost:8080/",
          "height": 51
        }
      },
      "cell_type": "code",
      "source": [
        "#GRAYSCALE A IMAGE\n",
        "\n",
        "#original shape of image\n",
        "print(X_train[1000].shape) #(32, 32, 3)\n",
        "\n",
        "def grayscale(img):\n",
        "    img = cv2.cvtColor(img, cv2.COLOR_BGR2GRAY)\n",
        "    return img\n",
        "\n",
        "img = grayscale(X_train[1000])\n",
        "print(img.shape)   #(32, 32)"
      ],
      "execution_count": 0,
      "outputs": [
        {
          "output_type": "stream",
          "text": [
            "(32, 32, 3)\n",
            "(32, 32)\n"
          ],
          "name": "stdout"
        }
      ]
    },
    {
      "metadata": {
        "id": "lD6NayWJNQS1",
        "colab_type": "code",
        "outputId": "75217176-2b3b-4b4b-c45f-4921cf3c41b1",
        "colab": {
          "base_uri": "https://localhost:8080/",
          "height": 34
        }
      },
      "cell_type": "code",
      "source": [
        "#EQUALISE INTENSITY OF IMAGE--sharpen the dull parts of image\n",
        "def equalize(img):\n",
        "    img = cv2.equalizeHist(img)\n",
        "    return img\n",
        "\n",
        "img = equalize(img)\n",
        "\n",
        "print(img.shape)"
      ],
      "execution_count": 0,
      "outputs": [
        {
          "output_type": "stream",
          "text": [
            "(32, 32)\n"
          ],
          "name": "stdout"
        }
      ]
    },
    {
      "metadata": {
        "id": "n1gUIk0_NR6P",
        "colab_type": "code",
        "colab": {}
      },
      "cell_type": "code",
      "source": [
        "def preprocess(img):\n",
        "    img = grayscale(img)\n",
        "    img = equalize(img)\n",
        "    img = img/255  #regularization\n",
        "    #note here that the image returned after dividing pixels by 255 cannot be shown using cv2.imshow. \n",
        "    #Because pixel intensity is not lying between 0-255 anymore.\n",
        "    return img"
      ],
      "execution_count": 0,
      "outputs": []
    },
    {
      "metadata": {
        "id": "WwGNetnlNTXZ",
        "colab_type": "code",
        "outputId": "3047dfd9-25b6-43ff-f6e2-7ba4bd4a96d8",
        "colab": {
          "base_uri": "https://localhost:8080/",
          "height": 34
        }
      },
      "cell_type": "code",
      "source": [
        "#call preprocess function on all data sets\n",
        "\n",
        "#map function will pick each element of X_train one by one, call preprocess function on it \n",
        "#and later we can store the results of the returned values to a new array\n",
        "X_train = np.array(list(map(preprocess, X_train)))\n",
        "X_test = np.array(list(map(preprocess, X_test)))\n",
        "X_val = np.array(list(map(preprocess, X_val)))\n",
        "\n",
        "print(X_train.shape) #(34799, 32, 32) --channels is not there\n",
        "\n",
        "#but we need to provide the number of channels(1 in our grayscale case) as convolution neural networks would need this info\n",
        "X_train = X_train.reshape(34799, 32, 32, 1) #added 1 channel\n",
        "X_test = X_test.reshape(12630, 32, 32, 1)\n",
        "X_val = X_val.reshape(4410, 32, 32, 1)"
      ],
      "execution_count": 0,
      "outputs": [
        {
          "output_type": "stream",
          "text": [
            "(34799, 32, 32)\n"
          ],
          "name": "stdout"
        }
      ]
    },
    {
      "metadata": {
        "id": "eBTBU0RuNZpf",
        "colab_type": "code",
        "colab": {}
      },
      "cell_type": "code",
      "source": [
        "#one hot encoding of lables\n",
        "#we will not use lables 0-43, so that the network does not assume that label 30 is powerful then label 20..\n",
        "#instead convert them to binary values--see Softmax.mp4 for best explaination\n",
        "\n",
        "#print(y_train[1000])  #before encoding --ouputs 36\n",
        "\n",
        "y_train = to_categorical(y_train, 43)\n",
        "y_test = to_categorical(y_test, 43)\n",
        "y_val = to_categorical(y_val, 43)\n",
        "\n",
        "#print(y_train[1000])  #before encoding --36\n",
        "#outputs [0. 0. 0. 0. 0. 0. 0. 0. 0. 0. 0. 0. 0. 0. 0. 0. 0. 0. 0. 0. 0. 0. 0. 0. 0. 0. 0. 0. 0. 0. 0. 0. 0. 0. 0. 0. 1. 0. 0. 0. 0. 0. 0.]"
      ],
      "execution_count": 0,
      "outputs": []
    },
    {
      "metadata": {
        "id": "tyY8XC0dNbCz",
        "colab_type": "code",
        "colab": {}
      },
      "cell_type": "code",
      "source": [
        "#define conv network\n",
        "def leNet_model():\n",
        "    model=Sequential()\n",
        "    model.add(Conv2D(60,(5,5),input_shape=(32,32,1), activation='relu')) #60 filters(kernels) each of size 5X5\n",
        "    model.add(Conv2D(60, (5, 5), activation='relu'))\n",
        "    model.add(MaxPooling2D(pool_size=(2,2)))   #kernel size 2X2\n",
        "    model.add(Conv2D(30,(3,3),activation='relu'))\n",
        "    model.add(Conv2D(30, (3, 3), activation='relu'))\n",
        "    model.add(MaxPooling2D(pool_size=(2,2)))\n",
        "    model.add(Flatten())   #flattening\n",
        "    model.add(Dense(500, activation='relu'))   #fully connected layer of 500 neurons\n",
        "    model.add(Dropout(0.5))\n",
        "    model.add(Dense(num_classes,activation='softmax'))   #output softmax layer\n",
        "    \n",
        "    #compile model\n",
        "    #Adam is the optimizer. and we are using categorical_crossentropy() for calculating loss here\n",
        "    model.compile(Adam(lr=0.001),loss='categorical_crossentropy', metrics=['accuracy'])\n",
        "\n",
        "    return model "
      ],
      "execution_count": 0,
      "outputs": []
    },
    {
      "metadata": {
        "id": "zDrGjyVQNdCu",
        "colab_type": "code",
        "outputId": "44822e83-7a1b-4474-aa60-0ee98b3744aa",
        "colab": {
          "base_uri": "https://localhost:8080/",
          "height": 493
        }
      },
      "cell_type": "code",
      "source": [
        "model=leNet_model()\n",
        "print(model.summary())"
      ],
      "execution_count": 0,
      "outputs": [
        {
          "output_type": "stream",
          "text": [
            "_________________________________________________________________\n",
            "Layer (type)                 Output Shape              Param #   \n",
            "=================================================================\n",
            "conv2d_1 (Conv2D)            (None, 28, 28, 60)        1560      \n",
            "_________________________________________________________________\n",
            "conv2d_2 (Conv2D)            (None, 24, 24, 60)        90060     \n",
            "_________________________________________________________________\n",
            "max_pooling2d_1 (MaxPooling2 (None, 12, 12, 60)        0         \n",
            "_________________________________________________________________\n",
            "conv2d_3 (Conv2D)            (None, 10, 10, 30)        16230     \n",
            "_________________________________________________________________\n",
            "conv2d_4 (Conv2D)            (None, 8, 8, 30)          8130      \n",
            "_________________________________________________________________\n",
            "max_pooling2d_2 (MaxPooling2 (None, 4, 4, 30)          0         \n",
            "_________________________________________________________________\n",
            "flatten_1 (Flatten)          (None, 480)               0         \n",
            "_________________________________________________________________\n",
            "dense_1 (Dense)              (None, 500)               240500    \n",
            "_________________________________________________________________\n",
            "dropout_1 (Dropout)          (None, 500)               0         \n",
            "_________________________________________________________________\n",
            "dense_2 (Dense)              (None, 43)                21543     \n",
            "=================================================================\n",
            "Total params: 378,023\n",
            "Trainable params: 378,023\n",
            "Non-trainable params: 0\n",
            "_________________________________________________________________\n",
            "None\n"
          ],
          "name": "stdout"
        }
      ]
    },
    {
      "metadata": {
        "id": "lhLYAp9CNfdr",
        "colab_type": "code",
        "outputId": "25fecf1c-3fdd-4862-b296-7bae63c49870",
        "colab": {
          "base_uri": "https://localhost:8080/",
          "height": 750
        }
      },
      "cell_type": "code",
      "source": [
        "#training our model\n",
        "history=model.fit(X_train, y_train, epochs=10, validation_data=(X_val, y_val), batch_size=400, verbose=1, shuffle=1)\n",
        "\n",
        "#history.history gives 4 things training_loss, training_accuracy, val_loss, val_accuracy\n",
        "\n",
        "plt.plot(history.history['loss'])  #1 line\n",
        "plt.plot(history.history['val_loss'])  #2 line\n",
        "plt.legend(['training', 'validation']) #lables for 1,2 line\n",
        "plt.title('Accuracy')\n",
        "plt.xlabel('epoch')"
      ],
      "execution_count": 0,
      "outputs": [
        {
          "output_type": "stream",
          "text": [
            "Train on 34799 samples, validate on 4410 samples\n",
            "Epoch 1/10\n",
            "34799/34799 [==============================] - 10s 290us/step - loss: 1.8412 - acc: 0.5006 - val_loss: 0.5395 - val_acc: 0.8447\n",
            "Epoch 2/10\n",
            "34799/34799 [==============================] - 5s 138us/step - loss: 0.3633 - acc: 0.8883 - val_loss: 0.2936 - val_acc: 0.9213\n",
            "Epoch 3/10\n",
            "34799/34799 [==============================] - 5s 139us/step - loss: 0.1789 - acc: 0.9462 - val_loss: 0.2156 - val_acc: 0.9463\n",
            "Epoch 4/10\n",
            "34799/34799 [==============================] - 5s 139us/step - loss: 0.1174 - acc: 0.9639 - val_loss: 0.1928 - val_acc: 0.9506\n",
            "Epoch 5/10\n",
            "34799/34799 [==============================] - 5s 138us/step - loss: 0.0833 - acc: 0.9744 - val_loss: 0.1593 - val_acc: 0.9594\n",
            "Epoch 6/10\n",
            "34799/34799 [==============================] - 5s 138us/step - loss: 0.0625 - acc: 0.9807 - val_loss: 0.1611 - val_acc: 0.9635\n",
            "Epoch 7/10\n",
            "34799/34799 [==============================] - 5s 139us/step - loss: 0.0524 - acc: 0.9838 - val_loss: 0.1564 - val_acc: 0.9669\n",
            "Epoch 8/10\n",
            "34799/34799 [==============================] - 5s 138us/step - loss: 0.0457 - acc: 0.9854 - val_loss: 0.1507 - val_acc: 0.9678\n",
            "Epoch 9/10\n",
            "34799/34799 [==============================] - 5s 139us/step - loss: 0.0356 - acc: 0.9887 - val_loss: 0.1774 - val_acc: 0.9626\n",
            "Epoch 10/10\n",
            "34799/34799 [==============================] - 5s 138us/step - loss: 0.0279 - acc: 0.9912 - val_loss: 0.1263 - val_acc: 0.9701\n"
          ],
          "name": "stdout"
        },
        {
          "output_type": "execute_result",
          "data": {
            "text/plain": [
              "Text(0.5, 0, 'epoch')"
            ]
          },
          "metadata": {
            "tags": []
          },
          "execution_count": 24
        },
        {
          "output_type": "display_data",
          "data": {
            "image/png": "[encoded data removed]",
            "text/plain": [
              "<Figure size 576x396 with 1 Axes>"
            ]
          },
          "metadata": {
            "tags": []
          }
        }
      ]
    },
    {
      "metadata": {
        "id": "M7lTNwlPNhOx",
        "colab_type": "code",
        "outputId": "46bd43ab-9323-4d7e-dc5f-6d795e87da92",
        "colab": {
          "base_uri": "https://localhost:8080/",
          "height": 51
        }
      },
      "cell_type": "code",
      "source": [
        "#testing our model\n",
        "score=model.evaluate(X_test, y_test, verbose=0)\n",
        "print('Test Score', score[0])\n",
        "print('Test Accuracy', score[1])"
      ],
      "execution_count": 0,
      "outputs": [
        {
          "output_type": "stream",
          "text": [
            "Test Score 0.20758314979803155\n",
            "Test Accuracy 0.9527315914961241\n"
          ],
          "name": "stdout"
        }
      ]
    },
    {
      "metadata": {
        "id": "vf8Au3TvNif4",
        "colab_type": "code",
        "outputId": "11b13fe3-e5b2-4eca-d0c3-e9cc25a5dc71",
        "colab": {
          "base_uri": "https://localhost:8080/",
          "height": 364
        }
      },
      "cell_type": "code",
      "source": [
        "#predict for image from internet\n",
        "import requests\n",
        "from PIL import Image\n",
        "url = 'https://c8.alamy.com/comp/A0RX23/cars-and-automobiles-must-turn-left-ahead-sign-A0RX23.jpg'\n",
        "r = requests.get(url, stream=True)\n",
        "image = Image.open(r.raw)\n",
        "\n",
        "#image=cv2.imread('E:\\\\self_driving_cars_resources\\\\internet1.jpg')\n",
        "\n",
        "image = np.asarray(image)\n",
        "print(image.shape)  #(946, 1300, 3)\n",
        "image = cv2.resize(image, (32, 32))   #(32,32)\n",
        "image = preprocess(image)   #(32,32)\n",
        "#now we cannot show it using cv2.imshow as pixel intenisty has been divided by 255\n",
        "\n",
        "#since we cannot show using cv2.ismshow we will use matplotlib.plt\n",
        "#plt always expects us to specify number of channels in input image. \n",
        "#for a gray image, we need to specify channel using cmap = plt.get_cmap('gray')\n",
        "plt.imshow(image, cmap = plt.get_cmap('gray'))\n",
        "\n",
        "\n",
        "#need to add number of channels as is must for CNN\n",
        "image = image.reshape(1, 32, 32, 1)   #(1, 32, 32, 1)-- 1 image of 32 X 32 having 1 channel"
      ],
      "execution_count": 0,
      "outputs": [
        {
          "output_type": "stream",
          "text": [
            "(946, 1300, 3)\n"
          ],
          "name": "stdout"
        },
        {
          "output_type": "display_data",
          "data": {
            "image/png": "[encoded data removed]",
            "text/plain": [
              "<Figure size 576x396 with 1 Axes>"
            ]
          },
          "metadata": {
            "tags": []
          }
        }
      ]
    },
    {
      "metadata": {
        "id": "BStlM4ByNkz2",
        "colab_type": "code",
        "outputId": "2f164598-16aa-421a-e37e-c80a48d6b826",
        "colab": {
          "base_uri": "https://localhost:8080/",
          "height": 34
        }
      },
      "cell_type": "code",
      "source": [
        "print(\"predicted sign: \"+ str(model.predict_classes(image)))"
      ],
      "execution_count": 0,
      "outputs": [
        {
          "output_type": "stream",
          "text": [
            "predicted sign: [12]\n"
          ],
          "name": "stdout"
        }
      ]
    }
  ]
}